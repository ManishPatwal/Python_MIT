{
 "cells": [
  {
   "cell_type": "markdown",
   "metadata": {},
   "source": [
    "$ \\LARGE \\textbf{SCM.254 Introduction to Programming and Data Analysis in Python} $\n",
    "\n",
    "$ \\Large \\textbf{Lecture 6: Optimization} $"
   ]
  },
  {
   "cell_type": "code",
   "execution_count": null,
   "metadata": {},
   "outputs": [],
   "source": []
  },
  {
   "cell_type": "raw",
   "metadata": {},
   "source": [
    "### Name: MISI, Manish Patwal\n",
    "### Program: MSCM\n",
    "\n",
    "# Activity 1: Creating and solving a mathematical model\n",
    "\n",
    "A transport company has two types of trucks, Type A and Type B. \n",
    "\n",
    "Type A has a refrigerated capacity of 20 m3 and a non-refrigerated capacity of 40 m3 while Type B has the same capacity (30 m3) for refrigerated and non-refrigerated stock. \n",
    "\n",
    "A grocer needs to hire trucks for the transport of 3,000 m3 of refrigerated stock and 4,000 m3 of non-refrigerated stock. \n",
    "\n",
    "The cost per kilometer of a Type A is 30, and 40 for Type B. \n",
    "\n",
    "How many trucks of each type should the grocer rent to achieve the minimum total cost?"
   ]
  },
  {
   "cell_type": "markdown",
   "metadata": {},
   "source": [
    "Decision variables:\n",
    "\n",
    "$ x_i = \\text{Number of trucks of type } i$\n",
    "\n",
    "Objective function:\n",
    "\n",
    "$ Min \\quad z=  30 \\cdot x_A + 40 \\cdot x_B  $\n",
    "\n",
    "Constraints:\n",
    "\n",
    "$ 20 \\cdot x_A + 30 \\cdot x_B \\geq 3000 $\n",
    "\n",
    "$ 40 \\cdot x_A + 30 \\cdot x_B \\geq 4000 $\n",
    "\n",
    "$ x_i \\geq 0 \\quad x_i: \\text{Integer}$"
   ]
  },
  {
   "cell_type": "code",
   "execution_count": null,
   "metadata": {},
   "outputs": [],
   "source": [
    "# Write your code here\n",
    "\n"
   ]
  }
 ],
 "metadata": {
  "kernelspec": {
   "display_name": "Python 3",
   "language": "python",
   "name": "python3"
  },
  "language_info": {
   "codemirror_mode": {
    "name": "ipython",
    "version": 3
   },
   "file_extension": ".py",
   "mimetype": "text/x-python",
   "name": "python",
   "nbconvert_exporter": "python",
   "pygments_lexer": "ipython3",
   "version": "3.7.0"
  }
 },
 "nbformat": 4,
 "nbformat_minor": 2
}
