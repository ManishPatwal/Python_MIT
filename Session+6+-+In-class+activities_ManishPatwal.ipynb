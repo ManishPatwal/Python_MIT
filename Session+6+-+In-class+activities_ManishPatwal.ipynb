{
 "cells": [
  {
   "cell_type": "markdown",
   "metadata": {},
   "source": [
    "$ \\LARGE \\textbf{SCM.254 Introduction to Programming and Data Analysis in Python} $\n",
    "\n",
    "$ \\Large \\textbf{Lecture 6: Optimization} $"
   ]
  },
  {
   "cell_type": "markdown",
   "metadata": {},
   "source": [
    "### Name: Manish Patwal\n",
    "### Program: MISI MSCM"
   ]
  },
  {
   "cell_type": "markdown",
   "metadata": {},
   "source": [
    "# Activity 1: Creating and solving a mathematical model\n",
    "\n",
    "A transport company has two types of trucks, Type A and Type B. \n",
    "\n",
    "Type A has a refrigerated capacity of 20 m3 and a non-refrigerated capacity of 40 m3 while Type B has the same capacity (30 m3) for refrigerated and non-refrigerated stock. \n",
    "\n",
    "A grocer needs to hire trucks for the transport of 3,000 m3 of refrigerated stock and 4,000 m3 of non-refrigerated stock. \n",
    "\n",
    "The cost per kilometer of a Type A is 30, and 40 for Type B. \n",
    "\n",
    "How many trucks of each type should the grocer rent to achieve the minimum total cost?"
   ]
  },
  {
   "cell_type": "markdown",
   "metadata": {},
   "source": [
    "Decision variables:\n",
    "\n",
    "$ x_i = \\text{Number of trucks of type } i$\n",
    "\n",
    "Objective function:\n",
    "\n",
    "$ Min \\quad z=  30 \\cdot x_A + 40 \\cdot x_B  $\n",
    "\n",
    "Constraints:\n",
    "\n",
    "$ 20 \\cdot x_A + 30 \\cdot x_B \\geq 3000 $\n",
    "\n",
    "$ 40 \\cdot x_A + 30 \\cdot x_B \\geq 4000 $\n",
    "\n",
    "$ x_i \\geq 0 \\quad x_i: \\text{Integer}$"
   ]
  },
  {
   "cell_type": "code",
   "execution_count": 12,
   "metadata": {},
   "outputs": [],
   "source": [
    "#Define Variable\n",
    "Truck = [0,1]\n",
    "Referigeration = [0,1]\n",
    "Needed_Capacity = [3000,4000]\n",
    "Ref_Capacity_truck = [[20,30],[40,30]]\n",
    "cost=[30,40]"
   ]
  },
  {
   "cell_type": "code",
   "execution_count": 13,
   "metadata": {},
   "outputs": [
    {
     "name": "stdout",
     "output_type": "stream",
     "text": [
      "Optimize a model with 2 rows, 2 columns and 4 nonzeros\n",
      "Variable types: 0 continuous, 2 integer (0 binary)\n",
      "Coefficient statistics:\n",
      "  Matrix range     [2e+01, 4e+01]\n",
      "  Objective range  [3e+01, 4e+01]\n",
      "  Bounds range     [0e+00, 0e+00]\n",
      "  RHS range        [3e+03, 4e+03]\n",
      "Found heuristic solution: objective 5360.0000000\n",
      "Presolve time: 0.00s\n",
      "Presolved: 2 rows, 2 columns, 4 nonzeros\n",
      "Variable types: 0 continuous, 2 integer (0 binary)\n",
      "\n",
      "Root relaxation: objective 4.166667e+03, 1 iterations, 0.00 seconds\n",
      "\n",
      "    Nodes    |    Current Node    |     Objective Bounds      |     Work\n",
      " Expl Unexpl |  Obj  Depth IntInf | Incumbent    BestBd   Gap | It/Node Time\n",
      "\n",
      "     0     0 4166.66667    0    1 5360.00000 4166.66667  22.3%     -    0s\n",
      "H    0     0                    4170.0000000 4166.66667  0.08%     -    0s\n",
      "\n",
      "Explored 1 nodes (1 simplex iterations) in 0.33 seconds\n",
      "Thread count was 4 (of 4 available processors)\n",
      "\n",
      "Solution count 2: 4170 5360 \n",
      "\n",
      "Optimal solution found (tolerance 1.00e-04)\n",
      "Best objective 4.170000000000e+03, best bound 4.170000000000e+03, gap 0.0000%\n",
      "51.0\n",
      "66.0\n",
      "Optimal value= 4170.0\n"
     ]
    }
   ],
   "source": [
    "# Define Model\n",
    "model = Model('Truck_Cost_Optimization')\n",
    "\n",
    "x = {}\n",
    "for i in Referigeration:\n",
    "    x[i] = model.addVar(vtype=GRB.INTEGER)\n",
    "    \n",
    "model.update()\n",
    "#Define \n",
    "coef = [cost[i] for i in Referigeration]\n",
    "var = [x[i] for i in Referigeration]\n",
    "obj = LinExpr(cost,var)\n",
    "model.setObjective(obj,GRB.MINIMIZE)\n",
    "\n",
    "for j in Truck:\n",
    "    coef = [Ref_Capacity_truck[j][i] for i in Referigeration]\n",
    "    var = [x[i] for i in Referigeration]\n",
    "    model.addConstr(LinExpr(coef,var)>=Needed_Capacity[j])\n",
    "    \n",
    "model.optimize()\n",
    "\n",
    "for v in model.getVars():\n",
    "    print(v.x)\n",
    "print('Optimal value=',model.ObjVal)"
   ]
  }
 ],
 "metadata": {
  "kernelspec": {
   "display_name": "Python 3",
   "language": "python",
   "name": "python3"
  },
  "language_info": {
   "codemirror_mode": {
    "name": "ipython",
    "version": 3
   },
   "file_extension": ".py",
   "mimetype": "text/x-python",
   "name": "python",
   "nbconvert_exporter": "python",
   "pygments_lexer": "ipython3",
   "version": "3.7.0"
  }
 },
 "nbformat": 4,
 "nbformat_minor": 2
}
