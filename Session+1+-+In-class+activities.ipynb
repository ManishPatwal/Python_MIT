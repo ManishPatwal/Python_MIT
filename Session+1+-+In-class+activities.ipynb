{
 "cells": [
  {
   "cell_type": "markdown",
   "metadata": {},
   "source": [
    "$ \\LARGE \\textbf{SCM.254 Introduction to Programming and Data Analysis in Python} $\n",
    "\n",
    "$ \\Large \\textbf{Lecture 1: Introduction to Python} $"
   ]
  },
  {
   "cell_type": "markdown",
   "metadata": {},
   "source": [
    "### Name: Your name and lastname\n",
    "### Program: Your program"
   ]
  },
  {
   "cell_type": "markdown",
   "metadata": {},
   "source": [
    "# Activity 1: Simple scripts - Straight-line programs\n",
    "Write a python code to calculate the economic order quantity (EOQ).\n",
    "\n",
    "$ EOQ = \\sqrt \\frac{2 \\cdot D \\cdot ct}{c \\cdot h} $"
   ]
  },
  {
   "cell_type": "code",
   "execution_count": 10,
   "metadata": {},
   "outputs": [
    {
     "name": "stdout",
     "output_type": "stream",
     "text": [
      "EOQ is: 489.89794855663564\n"
     ]
    }
   ],
   "source": [
    "\n",
    "# Write your code here\n",
    "\n",
    "D=1200 #Demand,D rate per year.\n",
    "ct=100 #Ordering cost ct in dollars\n",
    "c=10 #unit cost of purchase\n",
    "h=0.1  # holding cost per year\n",
    "EOQ=(2*D*ct/(c*h))**.5\n",
    "print(\"EOQ is:\",EOQ)"
   ]
  },
  {
   "cell_type": "markdown",
   "metadata": {},
   "source": [
    "# Activity 2: Simple scripts - Branching programs\n",
    "\n",
    "Write a Python code to calculate the forecast of December using an if statement."
   ]
  },
  {
   "cell_type": "code",
   "execution_count": 19,
   "metadata": {},
   "outputs": [
    {
     "name": "stdout",
     "output_type": "stream",
     "text": [
      "forecast is average: 134.33333333333334\n"
     ]
    }
   ],
   "source": [
    "# Write your code here\n",
    "\n",
    "month1=125\n",
    "month2=136\n",
    "month3=142\n",
    "\n",
    "if month3<=130:\n",
    "    forecast=month3\n",
    "    print(\"forecast is naive\",forecast)\n",
    "else:\n",
    "    forecast=(month1+month2+month3)/3\n",
    "    print(\"forecast is average:\",forecast)\n",
    "    \n",
    " \n",
    "\n"
   ]
  },
  {
   "cell_type": "markdown",
   "metadata": {},
   "source": [
    "# Activity 3: Iteration - While loops\n",
    "\n",
    "The following Python program is written to calculate the sum and average of the distance from the six customers. \n",
    "\n",
    "Fill in the missing code to complete this program. Use while loop."
   ]
  },
  {
   "cell_type": "code",
   "execution_count": null,
   "metadata": {},
   "outputs": [],
   "source": [
    "print('Input the distances of the 6 customers to calculate their sum and average.')\n",
    "customer = 0\n",
    "dsum = 0\n",
    "\n",
    "# Write your code here\n",
    "\n",
    "\n",
    "while customer<6:\n",
    "    customer=customer+1\n",
    "    d=int(input(\"Customer distance to DC\"))\n",
    "    dsum=dsum+d\n",
    "      \n",
    "daverage = dsum/customer\n",
    "print('Sum of distance from the six customers to DC is: ', dsum)\n",
    "print('Average distance from the six customers to DC is: ', daverage)"
   ]
  },
  {
   "cell_type": "markdown",
   "metadata": {},
   "source": [
    "# Activity 4: Iteration - For loops\n",
    "\n",
    "For the previous problem, write a Python program to calculate the sum and average of the distance from the six customers to the DC using for loop."
   ]
  },
  {
   "cell_type": "code",
   "execution_count": null,
   "metadata": {},
   "outputs": [],
   "source": [
    "# Write your code here\n",
    "print('Input the distances of the 6 customers to calculate their sum and average.')\n",
    "customer = 0\n",
    "dsum = 0\n",
    "\n",
    "# Write your code here\n",
    "\n",
    "\n",
    "for customer in range(6):\n",
    "    customer=customer+1\n",
    "    d=int(input(\"Customer distance to DC\"))\n",
    "    dsum=dsum+d\n",
    "      \n",
    "daverage = dsum/customer\n",
    "print('Sum of distance from the six customers to DC is: ', dsum)\n",
    "print('Average distance from the six customers to DC is: ', daverage)"
   ]
  },
  {
   "cell_type": "markdown",
   "metadata": {},
   "source": [
    "# Activity 5: Functions"
   ]
  },
  {
   "cell_type": "markdown",
   "metadata": {},
   "source": [
    "Write a function to compute the economic order quantity as a function of the unit cost, holding charge, ordering cost, and demand.\n",
    "\n",
    "$ Q = \\sqrt \\frac{2 \\cdot D \\cdot ct}{c \\cdot h} $\n",
    "\n",
    "Write a function to compute the reorder point as a function of the demand over lead time, standard deviation of demand over lead time, and k.\n",
    "\n",
    "$ s = \\mu_{DL} + k \\cdot \\sigma_{DL} $"
   ]
  },
  {
   "cell_type": "code",
   "execution_count": null,
   "metadata": {},
   "outputs": [],
   "source": [
    "# Write your code here"
   ]
  },
  {
   "cell_type": "code",
   "execution_count": null,
   "metadata": {},
   "outputs": [],
   "source": []
  }
 ],
 "metadata": {
  "kernelspec": {
   "display_name": "Python 3",
   "language": "python",
   "name": "python3"
  },
  "language_info": {
   "codemirror_mode": {
    "name": "ipython",
    "version": 3
   },
   "file_extension": ".py",
   "mimetype": "text/x-python",
   "name": "python",
   "nbconvert_exporter": "python",
   "pygments_lexer": "ipython3",
   "version": "3.7.0"
  }
 },
 "nbformat": 4,
 "nbformat_minor": 2
}
