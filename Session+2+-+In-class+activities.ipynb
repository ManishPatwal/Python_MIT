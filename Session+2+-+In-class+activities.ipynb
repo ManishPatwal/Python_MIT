{
 "cells": [
  {
   "cell_type": "markdown",
   "metadata": {},
   "source": [
    "$ \\LARGE \\textbf{SCM.254 Introduction to Programming and Data Analysis in Python} $\n",
    "\n",
    "$ \\Large \\textbf{Lecture 2: Data Structures} $"
   ]
  },
  {
   "cell_type": "markdown",
   "metadata": {},
   "source": [
    "### Name: Your name and lastname\n",
    "### Program: Your program"
   ]
  },
  {
   "cell_type": "markdown",
   "metadata": {},
   "source": [
    "# Activity 5: Functions\n",
    "\n",
    "Write a function to compute the economic order quantity as a function of the unit cost, holding charge, ordering cost, and demand.\n",
    "\n",
    "$ Q = \\sqrt \\frac{2 \\cdot D \\cdot ct}{c \\cdot h} $\n",
    "\n",
    "Write a function to compute the reorder point as a function of the demand over lead time, standard deviation of demand over lead time, and k.\n",
    "\n",
    "$ s = \\mu_{DL} + k \\cdot \\sigma_{DL} $"
   ]
  },
  {
   "cell_type": "code",
   "execution_count": 9,
   "metadata": {},
   "outputs": [],
   "source": [
    "# Write your code here\n",
    "def EOQ(D,ct,c,h):\n",
    "  Q=(2*D*ct/(c*h))**.5\n",
    "  return Q\n",
    "# D is the Demand in month\n",
    "#Ct is the Order cost\n",
    "#c is the unit cost of a quantity\n",
    "# h is the holding cost in years- to change to month devide by 12"
   ]
  },
  {
   "cell_type": "code",
   "execution_count": 11,
   "metadata": {},
   "outputs": [
    {
     "data": {
      "text/plain": [
       "309.83866769659335"
      ]
     },
     "execution_count": 11,
     "metadata": {},
     "output_type": "execute_result"
    }
   ],
   "source": [
    " EOQ(D=240,ct=100,c=50,h=.01) # Changed holding cost to per month 12% per year translates to 1% per month"
   ]
  },
  {
   "cell_type": "code",
   "execution_count": 18,
   "metadata": {},
   "outputs": [],
   "source": [
    "#Lets calculate reorder point\n",
    "def ReorderPoint(meanDL,k,sigmaDL):\n",
    "     r=meanDL+k*sigmaDL\n",
    "     return r\n"
   ]
  },
  {
   "cell_type": "code",
   "execution_count": 19,
   "metadata": {},
   "outputs": [
    {
     "data": {
      "text/plain": [
       "329.6"
      ]
     },
     "execution_count": 19,
     "metadata": {},
     "output_type": "execute_result"
    }
   ],
   "source": [
    "ReorderPoint(meanDL=240,k=1.28,sigmaDL=70) "
   ]
  },
  {
   "cell_type": "markdown",
   "metadata": {},
   "source": [
    "# Activity 1: Lists\n",
    "\n",
    "Using the distances between the customer locations and the distribution center (in miles) of Session 1 Activity 3, write a Python script to perform the following tasks:\n",
    "\n",
    "|  Customers   | 1 | 2 | 3 | 4 | 5 | 6 |\n",
    "|--------------|---|---|---|---|---|---|\n",
    "|Distance to DC| 12| 13| 15| 10|  6|  8|\n",
    "\n",
    "- Create a list with the distances\n",
    "- Identify the number of customers, the max and min distance\n",
    "- Add 5 additional customers’ distances to your distance list. The new distances are  20, 25, 18, 8, and 22\n",
    "- Retrieve the first and last element of the resulting list\n",
    "- Retrieve the distances of customers 4, 5 and 6 as a list"
   ]
  },
  {
   "cell_type": "code",
   "execution_count": 39,
   "metadata": {},
   "outputs": [
    {
     "name": "stdout",
     "output_type": "stream",
     "text": [
      "Number of customer is: 6\n",
      "Maximum Distance of customer 15\n",
      "Minimum Distance of customer 6\n",
      "[12, 13, 15, 10, 6, 8, 20, 25, 18, 8, 22]\n",
      "First Element of List is: 12\n",
      "Last Element of List is: 22\n",
      "Distanes of Customer 4,5,6 are: [6, 8, 20]\n"
     ]
    }
   ],
   "source": [
    "# Write your code here\n",
    "L1=[12,13,15,10,6,8] #Customer_Distance\n",
    "L2=len(L1) #number_of_customer\n",
    "print('Number of customer is:',L2)\n",
    "maxL1=max(L1) #maximum distance of customer\n",
    "print('Maximum Distance of customer',maxL1)\n",
    "minL1=min(L1) #minimum distance of customer\n",
    "print('Minimum Distance of customer',minL1)\n",
    "\n",
    "L3=[20,25,18,8,22]  # Additional Distance\n",
    "L1.extend(L3)\n",
    "print(L1)\n",
    "\n",
    "First_Element=L1.pop(0)\n",
    "print('First Element of List is:',First_Element)\n",
    "\n",
    "Last_Element=L1.pop(len(L1)-1)\n",
    "print('Last Element of List is:',Last_Element)\n",
    "\n",
    "Dist=L1[3:6] # Distance of customer 4 ,5 and 6\n",
    "print('Distanes of Customer 4,5,6 are:',Dist)"
   ]
  },
  {
   "cell_type": "markdown",
   "metadata": {},
   "source": [
    "# Activity 2: Dictionaries\n",
    "\n",
    "Write a Python code to:\n",
    "\n",
    "- Define the following dictionary of sample inventory for your warehouse facility\n",
    "\n",
    "| SKU | Number of units |\n",
    "|-----|-----------------|\n",
    "| 100 |        2        |\n",
    "| 101 |        0        |\n",
    "| 102 |        8        |\n",
    "| 103 |        5        |\n",
    "\n",
    "- Create two lists; one of the above dictionary’s SKU values, and one of the dictionary’s stock values\n",
    "- Identify the object type of the first SKU value of the original dictionary"
   ]
  },
  {
   "cell_type": "code",
   "execution_count": 46,
   "metadata": {},
   "outputs": [
    {
     "name": "stdout",
     "output_type": "stream",
     "text": [
      "{'sku': [100, 101, 102, 103], 'Number of units': [2, 0, 8, 5]}\n"
     ]
    },
    {
     "data": {
      "text/plain": [
       "int"
      ]
     },
     "execution_count": 46,
     "metadata": {},
     "output_type": "execute_result"
    }
   ],
   "source": [
    "# Write your code here\n",
    "Inventory={'sku':[100,101,102,103],'Number of units':[2,0,8,5]}\n",
    "print(Inventory)\n",
    "type(Inventory['Number of units'][0])"
   ]
  },
  {
   "cell_type": "markdown",
   "metadata": {},
   "source": [
    "# Activity 3: DataFrame\n",
    "\n",
    "You were given a time series consisting of demand values for the first semester of 2018. Write a Python course to perform the following tasks: \n",
    "\n",
    "| Month | Demand |\n",
    "|-------|--------|\n",
    "|  Jan  |   50   |\n",
    "|  Feb  |   70   |\n",
    "|  Mar  |   65   |\n",
    "|  Apr  |   45   |\n",
    "|  May  |   60   |\n",
    "|  Jun  |   75   |\n",
    "\n",
    "- Create a dictionary of the time series (month and demand)\n",
    "- Convert the dictionary to a DataFrame\n",
    "- Add a column to the DataFrame corresponding to the year \n",
    "- Convert demand values to a list"
   ]
  },
  {
   "cell_type": "code",
   "execution_count": 60,
   "metadata": {},
   "outputs": [
    {
     "data": {
      "text/plain": [
       "[50, 70, 65, 45, 60, 75]"
      ]
     },
     "execution_count": 60,
     "metadata": {},
     "output_type": "execute_result"
    }
   ],
   "source": [
    "# Write your code here\n",
    "from pandas import DataFrame\n",
    "#ddata={'store':['Bo','Sp','Ca'],'sales':[2500,1200,2200],'skus':[100,50,80]}\n",
    "new_data={'Month':['Jan','Feb','Mar','Apr','May','Jun'],'Demand':[50,70,65,45,60,75]}\n",
    "data=DataFrame(new_data)\n",
    "data.head()\n",
    "data['year']= 2018\n",
    "data.head()\n",
    "data_demand=data['Demand'].tolist()\n",
    "data_demand"
   ]
  }
 ],
 "metadata": {
  "kernelspec": {
   "display_name": "Python 3",
   "language": "python",
   "name": "python3"
  },
  "language_info": {
   "codemirror_mode": {
    "name": "ipython",
    "version": 3
   },
   "file_extension": ".py",
   "mimetype": "text/x-python",
   "name": "python",
   "nbconvert_exporter": "python",
   "pygments_lexer": "ipython3",
   "version": "3.7.0"
  }
 },
 "nbformat": 4,
 "nbformat_minor": 2
}
