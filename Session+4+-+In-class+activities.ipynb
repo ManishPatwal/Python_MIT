{
 "cells": [
  {
   "cell_type": "markdown",
   "metadata": {},
   "source": [
    "$ \\LARGE \\textbf{SCM.254 Introduction to Programming and Data Analysis in Python} $\n",
    "\n",
    "$ \\Large \\textbf{Lecture 4: Data Analysis with Pandas - Part II} $"
   ]
  },
  {
   "cell_type": "markdown",
   "metadata": {},
   "source": [
    "### Name: Your name and lastname\n",
    "### Program: Your program"
   ]
  },
  {
   "cell_type": "markdown",
   "metadata": {},
   "source": [
    "# Activity 6: Computing descriptive statistics\n",
    "\n",
    "Using the Dakota Co data (CO2_2017_cleaned), analyze the three main key performance indicators for the company: distance traveled (km), load (tons) and CO2 emissions (KgCO2/Ton-Km).\n",
    "\n",
    "Task: Write a Python program to perform the following operations:\n",
    "- Calculate measures of central tendency: mean and median for each of the three variables\n",
    "- Calculate measures of dispersion: variance and standard deviation for each of the three variables"
   ]
  },
  {
   "cell_type": "code",
   "execution_count": 7,
   "metadata": {},
   "outputs": [
    {
     "data": {
      "text/plain": [
       "Distance (Km)                   7686.177677\n",
       "Weight (Tons)                      1.700908\n",
       "CO2 emissions (KgCO2/Ton-Km)       0.028432\n",
       "dtype: float64"
      ]
     },
     "execution_count": 7,
     "metadata": {},
     "output_type": "execute_result"
    }
   ],
   "source": [
    "# Write your code here\n",
    "import pandas as pd\n",
    "\n",
    "data=pd.read_csv(\"C:\\\\Users\\\\manis\\\\Desktop\\MIT_Python\\\\CO2_2017_cleaned.csv\")\n",
    "data.head()\n",
    "\n",
    "#Calculate measures of central tendency: mean and median for each of the three variables\n",
    "data[['Distance (Km)','Weight (Tons)','CO2 emissions (KgCO2/Ton-Km)']].mean()\n",
    "\n",
    "data[['Distance (Km)','Weight (Tons)','CO2 emissions (KgCO2/Ton-Km)']].median()\n",
    "\n",
    "##Calculate measures of dispersion: variance and standard deviation for each of the three variables\n",
    "data[['Distance (Km)','Weight (Tons)','CO2 emissions (KgCO2/Ton-Km)']].var()\n",
    "\n",
    "data[['Distance (Km)','Weight (Tons)','CO2 emissions (KgCO2/Ton-Km)']].std()"
   ]
  },
  {
   "cell_type": "markdown",
   "metadata": {},
   "source": [
    "# Activity 7: Using groupby\n",
    "\n",
    "Use the data from previous activity and write a Python code that returns the following statements:\n",
    "\n",
    "- The average CO2 emissions (KgCO2/Ton-Km) by vehicle’s weight \n",
    "- The sum of CO2 emissions (KgCO2/Ton-Km) by month\n",
    "- The maximum value of CO2 emissions (KgCO2/Ton-Km) by month and day"
   ]
  },
  {
   "cell_type": "code",
   "execution_count": 22,
   "metadata": {},
   "outputs": [
    {
     "name": "stdout",
     "output_type": "stream",
     "text": [
      "Weight (Tons)\n",
      "5     0.090153\n",
      "6     0.075266\n",
      "7     0.064226\n",
      "8     0.056726\n",
      "9     0.050191\n",
      "10    0.045417\n",
      "Name: CO2 emissions (KgCO2/Ton-Km), dtype: float64\n",
      "Month\n",
      "1    0.063552\n",
      "2    0.063578\n",
      "3    0.063817\n",
      "Name: CO2 emissions (KgCO2/Ton-Km), dtype: float64\n",
      "Month  Day\n",
      "1      1      0.0641\n",
      "       2      0.6376\n",
      "       3      0.2583\n",
      "       4      0.3995\n",
      "       5      0.1662\n",
      "       6      0.1428\n",
      "       7      0.1200\n",
      "       8      0.1017\n",
      "       9      0.1398\n",
      "       10     0.8871\n",
      "       11     0.2192\n",
      "       12     0.2094\n",
      "       13     0.2114\n",
      "       14     0.1369\n",
      "       15     0.1024\n",
      "       16     0.3466\n",
      "       17     0.2376\n",
      "       18     0.1436\n",
      "       19     0.2719\n",
      "       20     0.7299\n",
      "       21     0.8874\n",
      "       22     0.0912\n",
      "       23     0.1788\n",
      "       24     0.6525\n",
      "       25     0.2049\n",
      "       26     0.5683\n",
      "       27     0.9081\n",
      "       28     0.1526\n",
      "       29     0.0862\n",
      "       30     0.4512\n",
      "               ...  \n",
      "3      2      0.1368\n",
      "       3      0.1524\n",
      "       4      0.2318\n",
      "       5      0.0917\n",
      "       6      0.2561\n",
      "       7      0.3915\n",
      "       8      0.2018\n",
      "       9      0.1954\n",
      "       10     0.1498\n",
      "       11     0.1859\n",
      "       12     0.1044\n",
      "       13     0.8991\n",
      "       14     0.1594\n",
      "       15     0.4323\n",
      "       16     0.1596\n",
      "       17     0.1546\n",
      "       18     0.1534\n",
      "       19     0.0674\n",
      "       20     0.0903\n",
      "       21     0.2825\n",
      "       22     0.2059\n",
      "       23     0.3124\n",
      "       24     0.1506\n",
      "       25     0.1393\n",
      "       26     0.0788\n",
      "       27     0.2041\n",
      "       28     0.1406\n",
      "       29     0.4280\n",
      "       30     0.1381\n",
      "       31     0.1569\n",
      "Name: CO2 emissions (KgCO2/Ton-Km), Length: 90, dtype: float64\n"
     ]
    }
   ],
   "source": [
    "# Write your code here\n",
    "#The average CO2 emissions (KgCO2/Ton-Km) by vehicle’s weight \n",
    "Vehicle_CO2=data.groupby(['Weight (Tons)'])['CO2 emissions (KgCO2/Ton-Km)'].mean()\n",
    "print(Vehicle_CO2)\n",
    "\n",
    "\n",
    "#The sum of CO2 emissions (KgCO2/Ton-Km) by month\n",
    "Monthwise_CO2=data.groupby(['Month'])['CO2 emissions (KgCO2/Ton-Km)'].mean()\n",
    "print(Monthwise_CO2)\n",
    "\n",
    "#The maximum value of CO2 emissions (KgCO2/Ton-Km) by month and day\n",
    "Max_CO2=data.groupby(['Month','Day'])['CO2 emissions (KgCO2/Ton-Km)'].max()\n",
    "print(Max_CO2)\n",
    "#sku_Case_missed=dc_shipments.groupby(['sku'])['missed'].sum()\n",
    "#groupd_data=Inventory_data.groupby(['dc','sku'])['oos'].sum()\n",
    "#groupd_data = groupd_data.to_frame().reset_index()\n",
    "#type(groupd_data)\n",
    "#groupd_data.rename(columns={'oos':'oos_days'}, inplace=True) #change name of oos to oos_days\n"
   ]
  },
  {
   "cell_type": "markdown",
   "metadata": {},
   "source": [
    "# Activity 8: Concatanating datasets\n",
    "\n",
    "Use the “CO2_2017_cleaned.csv” and “CO2_2016_cleaned.csv” files and write a Python code to perform the following tasks:\n",
    "\n",
    "- Concatenate 2016 and 2017 datasets\n",
    "- Sort the values of the resulting DataFrame by Year, Month, and Day in ascending order"
   ]
  },
  {
   "cell_type": "code",
   "execution_count": 34,
   "metadata": {},
   "outputs": [
    {
     "name": "stdout",
     "output_type": "stream",
     "text": [
      "   Vehicle ID  Day  Month  Year  Distance (Km)  Weight (Tons)  Lt/Ton-Km  \\\n",
      "0        1363    1      1  2017            320              6     0.0245   \n",
      "1         798    2      1  2017            204              6     0.0332   \n",
      "2         799    2      1  2017            291              7     0.0226   \n",
      "3         869    2      1  2017            207              5     0.0377   \n",
      "4         873    2      1  2017             84              8     0.0265   \n",
      "\n",
      "   CO2 emissions (KgCO2/Ton-Km)  \n",
      "0                        0.0641  \n",
      "1                        0.0866  \n",
      "2                        0.0589  \n",
      "3                        0.0983  \n",
      "4                        0.0691  \n",
      "       Vehicle ID  Day  Month  Year  Distance (Km)  Weight (Tons)  Lt/Ton-Km  \\\n",
      "23236       14620    1      1  2016            200             10     0.0200   \n",
      "23237         693    2      1  2016            161              9     0.0181   \n",
      "23238         695    2      1  2016            200              9     0.0177   \n",
      "23239         705    2      1  2016            265              7     0.0243   \n",
      "23240         811    2      1  2016            310              5     0.0323   \n",
      "\n",
      "       CO2 emissions (KgCO2/Ton-Km)  \n",
      "23236                        0.0522  \n",
      "23237                        0.0472  \n",
      "23238                        0.0462  \n",
      "23239                        0.0633  \n",
      "23240                        0.0842  \n"
     ]
    }
   ],
   "source": [
    "# Write your code here\n",
    "#Use the “CO2_2017_cleaned.csv” and “CO2_2016_cleaned.csv” files and write a Python code to perform the following tasks:\n",
    "data_2017=pd.read_csv(\"C:\\\\Users\\\\manis\\\\Desktop\\MIT_Python\\\\CO2_2017_cleaned.csv\")\n",
    "data_2016=pd.read_csv(\"C:\\\\Users\\\\manis\\\\Desktop\\MIT_Python\\\\CO2_2016_cleaned.csv\")\n",
    "\n",
    "\n",
    "Data=pd.concat([data_2017,data_2016],ignore_index=True)\n",
    "print(Data.head())\n",
    "\n",
    "#Sort the values of the resulting DataFrame by Year, Month, and Day in ascending order\n",
    "sorted_data=Data.sort_values(by=['Year', 'Month','Day'])\n",
    "print(sorted_data.head())\n",
    "\n",
    "#Concatenate 2016 and 2017 datasets"
   ]
  },
  {
   "cell_type": "markdown",
   "metadata": {},
   "source": [
    "# Activity 9: Merging datasets\n",
    "\n",
    "Using the data from previous activity (2016 and 2017), write a Python code to perform the following tasks:\n",
    "\n",
    "- Read a new dataset (“vehicles.csv”)\n",
    "- Merge both datasets (join the columns in CO2 emissions data with the columns on vehicles data) by linking rows using ”Vehicle ID” as the key\n"
   ]
  },
  {
   "cell_type": "code",
   "execution_count": 50,
   "metadata": {},
   "outputs": [
    {
     "name": "stdout",
     "output_type": "stream",
     "text": [
      "Data shape of Co2 cleaned is  (49182, 8)\n",
      "   Vehicle ID  Day  Month  Year  Distance (Km)  Weight (Tons)  Lt/Ton-Km  \\\n",
      "0        1363    1      1  2017            320              6     0.0245   \n",
      "1        1363    2      1  2017            321              5     0.0295   \n",
      "2        1363    3      1  2017            230              6     0.0342   \n",
      "3        1363    6      1  2017            350              9     0.0150   \n",
      "4        1363    7      1  2017            350              5     0.0272   \n",
      "\n",
      "   CO2 emissions (KgCO2/Ton-Km)   DC Automaker    Capacity  Model  \n",
      "0                        0.0641  110  Kenworth  10 pallets   2018  \n",
      "1                        0.0771  110  Kenworth  10 pallets   2018  \n",
      "2                        0.0893  110  Kenworth  10 pallets   2018  \n",
      "3                        0.0390  110  Kenworth  10 pallets   2018  \n",
      "4                        0.0710  110  Kenworth  10 pallets   2018  \n",
      "shape of new data is (49182, 12)\n"
     ]
    }
   ],
   "source": [
    "# Write your code here\n",
    "# lets use Data from previous questions created using merging dataset\n",
    "#Lets check shape of data from previous aciviity 8 created by merging of the data\n",
    "print('Data shape of Co2 cleaned is ',Data.shape)\n",
    "data_vehicle=pd.read_csv(\"C:\\\\Users\\\\manis\\\\Desktop\\MIT_Python\\\\vehicles.csv\")\n",
    "data_vehicle.head()\n",
    "\n",
    "merged_data=pd.merge(Data,data_vehicle,on='Vehicle ID')\n",
    "print(merged_data.head())\n",
    "print('shape of new data is',merged_data.shape)\n"
   ]
  }
 ],
 "metadata": {
  "kernelspec": {
   "display_name": "Python 3",
   "language": "python",
   "name": "python3"
  },
  "language_info": {
   "codemirror_mode": {
    "name": "ipython",
    "version": 3
   },
   "file_extension": ".py",
   "mimetype": "text/x-python",
   "name": "python",
   "nbconvert_exporter": "python",
   "pygments_lexer": "ipython3",
   "version": "3.7.0"
  }
 },
 "nbformat": 4,
 "nbformat_minor": 2
}
