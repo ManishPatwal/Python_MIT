{
 "cells": [
  {
   "cell_type": "markdown",
   "metadata": {},
   "source": [
    "$ \\LARGE \\textbf{SCM.254 Introduction to Programming and Data Analysis in Python} $\n",
    "\n",
    "$ \\Large \\textbf{Problem Set 1} $"
   ]
  },
  {
   "cell_type": "markdown",
   "metadata": {},
   "source": [
    "### Name: Manish Patwa\n",
    "### Program: MSCM Malaysia institute for supply chain innovation "
   ]
  },
  {
   "cell_type": "markdown",
   "metadata": {},
   "source": [
    "# Problem 1\n",
    "\n",
    "Summer is high season for tourism in Boston: tens of thousands of tourists visit the city's historical landmarks. Many visitors take guided tours around Boston and Cambridge in trolleys, double-deck buses and even amphibian boat-buses. Many of these guided tours make a stop at MIT, in a place called Kendall Square. The thousands of tourists that stop in Kendall every summer, usually thirsty, are a great market for cold bottled water.\n",
    "\n",
    "A local store based in Kendall takes advantage of this opportunity by placing dozens of water bottles in huge blue buckets with iced in the shade, within sight of the tourists. The colder the water bottles are, the better they sell. It takes usually several hours to chill the bottles, so the decision of how many bottles to prepare for sale is taken the previous day.\n",
    "\n",
    "You have been asked by a local Kendall store to help them calculate the number of water bottles they should chill and stock in the ice buckets, ready to sell to tourists each day.\n",
    "\n",
    "Based on historical data, you have determined the daily demand for bottled water in Kendall during the summer is – on average – normally distributed with a mean of 400 bottles, with a standard deviation of 100 bottles. The store buys the water bottles at 55 cents a piece, and spends an additional 10 cents in electricity and ice to chill it and keep it that way. A chilled bottle is sold to the tourists at 1 dollar a piece. Since the labels of the bottles deteriorate under water, the bottles that do not sell at the end of the day have to be discarded at a loss.\n",
    "\n",
    "Write a code to determine how many water bottles the store should prepare for sale every day.\n",
    "\n",
    "Note: You might consider using Python package scipy.stats to calculate the value of k."
   ]
  },
  {
   "cell_type": "code",
   "execution_count": 2,
   "metadata": {},
   "outputs": [
    {
     "name": "stdout",
     "output_type": "stream",
     "text": [
      "cost of shortage is: 0.35\n",
      "K value is: -0.38532046640756773\n",
      "Perday prep is 361 bottles\n"
     ]
    }
   ],
   "source": [
    "# Write your code here\n",
    "from scipy.stats import norm\n",
    "d=400 #mean demand\n",
    "stdv=100# standard deviation of daily demand\n",
    "c=0.55+.1 #unit cost of water botle in dollars+electricty cost for cold\n",
    "s=1 #selling price\n",
    "#lets calculate critical ratio is (cost of shortage)/(cost of shortage+cost of excess)\n",
    "#cost of excess is same as manufacturing +unit cost\n",
    "#cost of shorage is same as profit, Cs\n",
    "\n",
    "cs=s-c #cost of shortage\n",
    "print(\"cost of shortage is:\",cs)\n",
    "cr=cs/(cs+c) #critical ratio\n",
    "#lets find k value for safety factor\n",
    "k=norm.ppf(cr)\n",
    "print(\"K value is:\",k)\n",
    "\n",
    "# water bottle preparation every day\n",
    "prep=d+k*stdv\n",
    "print('Perday prep is',int(prep),'bottles')\n",
    "\n",
    "\n",
    "\n",
    "\n",
    "\n",
    "\n"
   ]
  },
  {
   "cell_type": "markdown",
   "metadata": {},
   "source": [
    "# Problem 2\n",
    "\n",
    "Frammit runs a factory that produces frames, sold directly to retailers. One client has recently placed an order for SKU #357HE with the following delivery schedule over the next twelve months:\n",
    "\n",
    "\n",
    "| January |February |  March  |  April  |   May   |   June  |   July  |  August |September| October |November |December |\n",
    "|---------|---------|---------|---------|---------|---------|---------|---------|---------|---------|---------|---------|\n",
    "|   1300  |   2500  |   1400  |   1200  |   1500  |   1500  |   1800  |   1500  |   1700  |   1600  |   2400  | 4800  |\n",
    "\n",
    "The initial inventory is zero.\n",
    "\n",
    "Frammit needs your help to create a production plan that minimizes the total costs. Costs are incurred both from holding inventory of finished goods and from changeovers in the production line. Frammit estimates these costs according to the following:\n",
    "\n",
    "- Inventory holding costs: $0.5 per frame per month\n",
    "\n",
    "- Production setup costs: $1500 per production run\n",
    "\n",
    "Any products delivered in the same month as manufactured incur no holding costs. Holding costs are then incurred for every month after the manufacturing month. Capacity is not an issue at this point. "
   ]
  },
  {
   "cell_type": "markdown",
   "metadata": {},
   "source": [
    "Write a code to find the optimal production quantity (use the EOQ-formula). Round UP the EOQ value to an integer."
   ]
  },
  {
   "cell_type": "code",
   "execution_count": 3,
   "metadata": {},
   "outputs": [
    {
     "name": "stdout",
     "output_type": "stream",
     "text": [
      "        month  quantity\n",
      "0     January      1300\n",
      "1    February      2500\n",
      "2       March      1400\n",
      "3       April      1200\n",
      "4         May      1500\n",
      "5        June      1500\n",
      "6        July      1800\n",
      "7      August      1500\n",
      "8   September      1700\n",
      "9     October      1600\n",
      "10   November      2400\n",
      "11   December      4800\n",
      "Demand over complete year is 23200\n",
      "optimal production quantity is 3406\n"
     ]
    }
   ],
   "source": [
    "# Write your code here\n",
    "#Production Schedule for Frammit factory.\n",
    "production_schedule={'month':['January','February','March','April','May','June','July','August','September','October','November','December'],\n",
    "                      'quantity':[1300,2500,1400,1200,1500,1500,1800,1500,1700,1600,2400,4800]}\n",
    "\n",
    "from pandas import DataFrame\n",
    "production=DataFrame(production_schedule)\n",
    "print(production)\n",
    "sum_of_columns=production.sum(axis = 0, skipna = True) \n",
    "sum_of_columns\n",
    "D=sum_of_columns[1]\n",
    "print('Demand over complete year is',D)\n",
    "#Inventory holding cost\n",
    "I=0.5*12 #$/converted frame/month to frame/year\n",
    "s=1500 #Production set up cost\n",
    "#optimal order quantity\n",
    "Q= (2*s*D/I)**0.5\n",
    "import math\n",
    "Q=math.ceil(Q)\n",
    "import math\n",
    "print('optimal production quantity is',Q)"
   ]
  },
  {
   "cell_type": "markdown",
   "metadata": {},
   "source": [
    "Write a code to calculate the total cost for producing the ordered units (inventory holding cost + setup cost) using the Fixed Order Quantity heuristic. Use the EOQ as the lot size."
   ]
  },
  {
   "cell_type": "code",
   "execution_count": 101,
   "metadata": {},
   "outputs": [
    {
     "name": "stdout",
     "output_type": "stream",
     "text": [
      "Inventoryholding cost is 9982.0 Set up cost is 10500  and  total cost is cost is 20482.0 dollars\n"
     ]
    }
   ],
   "source": [
    "Demand=[1300,2500,1400,1200,1500,1500,1800,1500,1700,1600,2400,4800]\n",
    "Production=[] #production \n",
    "IOH=[] #Invenetory on Hand\n",
    "IHC=[] #Inventory Holding Cost\n",
    "SC=[] #Set up cost\n",
    "\n",
    "for i in range(len(Demand)):\n",
    " if i==0:    \n",
    "    A=Q-Demand[i]\n",
    "    Production.append(Q)\n",
    "    IOH.append(A)\n",
    "    H=0.5*IOH[i]\n",
    "    IHC.append(H)\n",
    "    \n",
    " else:\n",
    "    if IOH[i-1]<Demand[i]:\n",
    "     Production.append(Q)\n",
    "     I =IOH[i-1]+Production[i]-Demand[i]\n",
    "     IOH.append(I)\n",
    "     H=0.5*IOH[i]\n",
    "     IHC.append(H)\n",
    "    else:\n",
    "     Production.append(0)     \n",
    "     I=IOH[i-1]+Production[i]-Demand[i]\n",
    "     IOH.append(I)\n",
    "     H=0.5*IOH[i]\n",
    "     IHC.append(H)\n",
    "for i in range(len(Demand)):\n",
    "    if Production[i]>0:\n",
    "      SC.append(1500)\n",
    "    else:\n",
    "      SC.append(0)\n",
    "\n",
    "print('Inventoryholding cost is',sum(IHC),\n",
    "      'Set up cost is',sum(SC),\n",
    "      ' and  total cost is cost is',sum(IHC)+sum(SC),'dollars')\n"
   ]
  },
  {
   "cell_type": "code",
   "execution_count": 63,
   "metadata": {},
   "outputs": [
    {
     "name": "stdout",
     "output_type": "stream",
     "text": [
      "[]\n"
     ]
    }
   ],
   "source": []
  }
 ],
 "metadata": {
  "kernelspec": {
   "display_name": "Python 3",
   "language": "python",
   "name": "python3"
  },
  "language_info": {
   "codemirror_mode": {
    "name": "ipython",
    "version": 3
   },
   "file_extension": ".py",
   "mimetype": "text/x-python",
   "name": "python",
   "nbconvert_exporter": "python",
   "pygments_lexer": "ipython3",
   "version": "3.7.0"
  }
 },
 "nbformat": 4,
 "nbformat_minor": 2
}
